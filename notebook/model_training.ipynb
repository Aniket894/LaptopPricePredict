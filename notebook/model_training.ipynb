{
 "cells": [
  {
   "cell_type": "code",
   "execution_count": 1,
   "metadata": {},
   "outputs": [],
   "source": [
    "import pandas as pd"
   ]
  },
  {
   "cell_type": "code",
   "execution_count": 2,
   "metadata": {},
   "outputs": [
    {
     "data": {
      "text/html": [
       "<div>\n",
       "<style scoped>\n",
       "    .dataframe tbody tr th:only-of-type {\n",
       "        vertical-align: middle;\n",
       "    }\n",
       "\n",
       "    .dataframe tbody tr th {\n",
       "        vertical-align: top;\n",
       "    }\n",
       "\n",
       "    .dataframe thead th {\n",
       "        text-align: right;\n",
       "    }\n",
       "</style>\n",
       "<table border=\"1\" class=\"dataframe\">\n",
       "  <thead>\n",
       "    <tr style=\"text-align: right;\">\n",
       "      <th></th>\n",
       "      <th>Laptop</th>\n",
       "      <th>Status</th>\n",
       "      <th>Brand</th>\n",
       "      <th>Model</th>\n",
       "      <th>CPU</th>\n",
       "      <th>RAM</th>\n",
       "      <th>Storage</th>\n",
       "      <th>Storage type</th>\n",
       "      <th>GPU</th>\n",
       "      <th>Screen</th>\n",
       "      <th>Touch</th>\n",
       "      <th>Final Price</th>\n",
       "    </tr>\n",
       "  </thead>\n",
       "  <tbody>\n",
       "    <tr>\n",
       "      <th>0</th>\n",
       "      <td>ASUS ExpertBook B1 B1502CBA-EJ0436X Intel Core...</td>\n",
       "      <td>New</td>\n",
       "      <td>Asus</td>\n",
       "      <td>ExpertBook</td>\n",
       "      <td>Intel Core i5</td>\n",
       "      <td>8</td>\n",
       "      <td>512</td>\n",
       "      <td>SSD</td>\n",
       "      <td>NaN</td>\n",
       "      <td>15.6</td>\n",
       "      <td>No</td>\n",
       "      <td>1009.00</td>\n",
       "    </tr>\n",
       "    <tr>\n",
       "      <th>1</th>\n",
       "      <td>Alurin Go Start Intel Celeron N4020/8GB/256GB ...</td>\n",
       "      <td>New</td>\n",
       "      <td>Alurin</td>\n",
       "      <td>Go</td>\n",
       "      <td>Intel Celeron</td>\n",
       "      <td>8</td>\n",
       "      <td>256</td>\n",
       "      <td>SSD</td>\n",
       "      <td>NaN</td>\n",
       "      <td>15.6</td>\n",
       "      <td>No</td>\n",
       "      <td>299.00</td>\n",
       "    </tr>\n",
       "    <tr>\n",
       "      <th>2</th>\n",
       "      <td>ASUS ExpertBook B1 B1502CBA-EJ0424X Intel Core...</td>\n",
       "      <td>New</td>\n",
       "      <td>Asus</td>\n",
       "      <td>ExpertBook</td>\n",
       "      <td>Intel Core i3</td>\n",
       "      <td>8</td>\n",
       "      <td>256</td>\n",
       "      <td>SSD</td>\n",
       "      <td>NaN</td>\n",
       "      <td>15.6</td>\n",
       "      <td>No</td>\n",
       "      <td>789.00</td>\n",
       "    </tr>\n",
       "    <tr>\n",
       "      <th>3</th>\n",
       "      <td>MSI Katana GF66 12UC-082XES Intel Core i7-1270...</td>\n",
       "      <td>New</td>\n",
       "      <td>MSI</td>\n",
       "      <td>Katana</td>\n",
       "      <td>Intel Core i7</td>\n",
       "      <td>16</td>\n",
       "      <td>1000</td>\n",
       "      <td>SSD</td>\n",
       "      <td>RTX 3050</td>\n",
       "      <td>15.6</td>\n",
       "      <td>No</td>\n",
       "      <td>1199.00</td>\n",
       "    </tr>\n",
       "    <tr>\n",
       "      <th>4</th>\n",
       "      <td>HP 15S-FQ5085NS Intel Core i5-1235U/16GB/512GB...</td>\n",
       "      <td>New</td>\n",
       "      <td>HP</td>\n",
       "      <td>15S</td>\n",
       "      <td>Intel Core i5</td>\n",
       "      <td>16</td>\n",
       "      <td>512</td>\n",
       "      <td>SSD</td>\n",
       "      <td>NaN</td>\n",
       "      <td>15.6</td>\n",
       "      <td>No</td>\n",
       "      <td>669.01</td>\n",
       "    </tr>\n",
       "  </tbody>\n",
       "</table>\n",
       "</div>"
      ],
      "text/plain": [
       "                                              Laptop Status   Brand  \\\n",
       "0  ASUS ExpertBook B1 B1502CBA-EJ0436X Intel Core...    New    Asus   \n",
       "1  Alurin Go Start Intel Celeron N4020/8GB/256GB ...    New  Alurin   \n",
       "2  ASUS ExpertBook B1 B1502CBA-EJ0424X Intel Core...    New    Asus   \n",
       "3  MSI Katana GF66 12UC-082XES Intel Core i7-1270...    New     MSI   \n",
       "4  HP 15S-FQ5085NS Intel Core i5-1235U/16GB/512GB...    New      HP   \n",
       "\n",
       "        Model            CPU  RAM  Storage Storage type       GPU  Screen  \\\n",
       "0  ExpertBook  Intel Core i5    8      512          SSD       NaN    15.6   \n",
       "1          Go  Intel Celeron    8      256          SSD       NaN    15.6   \n",
       "2  ExpertBook  Intel Core i3    8      256          SSD       NaN    15.6   \n",
       "3      Katana  Intel Core i7   16     1000          SSD  RTX 3050    15.6   \n",
       "4         15S  Intel Core i5   16      512          SSD       NaN    15.6   \n",
       "\n",
       "  Touch  Final Price  \n",
       "0    No      1009.00  \n",
       "1    No       299.00  \n",
       "2    No       789.00  \n",
       "3    No      1199.00  \n",
       "4    No       669.01  "
      ]
     },
     "execution_count": 2,
     "metadata": {},
     "output_type": "execute_result"
    }
   ],
   "source": [
    "df = pd.read_csv('data/laptops.csv')\n",
    "df.head()"
   ]
  },
  {
   "cell_type": "code",
   "execution_count": 3,
   "metadata": {},
   "outputs": [
    {
     "data": {
      "text/plain": [
       "Laptop             0\n",
       "Status             0\n",
       "Brand              0\n",
       "Model              0\n",
       "CPU                0\n",
       "RAM                0\n",
       "Storage            0\n",
       "Storage type      42\n",
       "GPU             1371\n",
       "Screen             4\n",
       "Touch              0\n",
       "Final Price        0\n",
       "dtype: int64"
      ]
     },
     "execution_count": 3,
     "metadata": {},
     "output_type": "execute_result"
    }
   ],
   "source": [
    "df.isnull().sum()"
   ]
  },
  {
   "cell_type": "code",
   "execution_count": 5,
   "metadata": {},
   "outputs": [],
   "source": [
    "df = df.drop(labels=['Laptop','Status','Touch','Model'],axis=1)"
   ]
  },
  {
   "cell_type": "code",
   "execution_count": 6,
   "metadata": {},
   "outputs": [],
   "source": [
    "#independent and dependent variables\n",
    "X = df.drop(labels=['Final Price'],axis=1)\n",
    "y =df[[\"Final Price\"]]"
   ]
  },
  {
   "cell_type": "code",
   "execution_count": 10,
   "metadata": {},
   "outputs": [
    {
     "name": "stdout",
     "output_type": "stream",
     "text": [
      "<class 'pandas.core.frame.DataFrame'>\n",
      "RangeIndex: 2160 entries, 0 to 2159\n",
      "Data columns (total 7 columns):\n",
      " #   Column        Non-Null Count  Dtype  \n",
      "---  ------        --------------  -----  \n",
      " 0   Brand         2160 non-null   object \n",
      " 1   CPU           2160 non-null   object \n",
      " 2   RAM           2160 non-null   int64  \n",
      " 3   Storage       2160 non-null   int64  \n",
      " 4   Storage type  2118 non-null   object \n",
      " 5   GPU           789 non-null    object \n",
      " 6   Screen        2156 non-null   float64\n",
      "dtypes: float64(1), int64(2), object(4)\n",
      "memory usage: 118.2+ KB\n"
     ]
    }
   ],
   "source": [
    "X.info()"
   ]
  },
  {
   "cell_type": "code",
   "execution_count": 11,
   "metadata": {},
   "outputs": [],
   "source": [
    "#segrate numerial cols and cat cols\n",
    "\n",
    "categorical_cols = X.select_dtypes(include='object').columns\n",
    "\n",
    "numerical_cols = X.select_dtypes(exclude='object').columns"
   ]
  },
  {
   "cell_type": "code",
   "execution_count": 12,
   "metadata": {},
   "outputs": [
    {
     "data": {
      "text/plain": [
       "Index(['Brand', 'CPU', 'Storage type', 'GPU'], dtype='object')"
      ]
     },
     "execution_count": 12,
     "metadata": {},
     "output_type": "execute_result"
    }
   ],
   "source": [
    "categorical_cols"
   ]
  },
  {
   "cell_type": "code",
   "execution_count": 15,
   "metadata": {},
   "outputs": [],
   "source": [
    "categorical_cols = categorical_cols.drop(labels=['Brand'])"
   ]
  },
  {
   "cell_type": "code",
   "execution_count": 16,
   "metadata": {},
   "outputs": [
    {
     "data": {
      "text/plain": [
       "Index(['CPU', 'Storage type', 'GPU'], dtype='object')"
      ]
     },
     "execution_count": 16,
     "metadata": {},
     "output_type": "execute_result"
    }
   ],
   "source": [
    "categorical_cols"
   ]
  },
  {
   "cell_type": "code",
   "execution_count": 17,
   "metadata": {},
   "outputs": [
    {
     "data": {
      "text/plain": [
       "Index(['RAM', 'Storage', 'Screen'], dtype='object')"
      ]
     },
     "execution_count": 17,
     "metadata": {},
     "output_type": "execute_result"
    }
   ],
   "source": [
    "numerical_cols"
   ]
  },
  {
   "cell_type": "code",
   "execution_count": 29,
   "metadata": {},
   "outputs": [
    {
     "data": {
      "text/plain": [
       "array(['Intel Core i5', 'Intel Celeron', 'Intel Core i3', 'Intel Core i7',\n",
       "       'AMD Ryzen 5', 'AMD Ryzen 7', 'AMD Ryzen 3', 'Apple M1',\n",
       "       'AMD Athlon', 'Apple M2', 'AMD Ryzen 9', 'Intel Core i9',\n",
       "       'AMD 3020e', 'Qualcomm Snapdragon 7', 'Intel Evo Core i7',\n",
       "       'Intel Evo Core i5', 'Intel Pentium', 'Apple M2 Pro',\n",
       "       'AMD Radeon 5', 'Intel Evo Core i9', 'AMD 3015e', 'Apple M1 Pro',\n",
       "       'Intel Core M3', 'AMD Radeon 9', 'Mediatek MT8183', 'AMD 3015Ce',\n",
       "       'Qualcomm Snapdragon 8', 'Microsoft SQ1'], dtype=object)"
      ]
     },
     "execution_count": 29,
     "metadata": {},
     "output_type": "execute_result"
    }
   ],
   "source": [
    "X['CPU'].unique()"
   ]
  },
  {
   "cell_type": "code",
   "execution_count": 36,
   "metadata": {},
   "outputs": [],
   "source": [
    "#define custom ranking for each cat col\n",
    "\n",
    "CPU_categories = ['Intel Celeron',\n",
    "'Microsoft SQ1',\n",
    "'Qualcomm Snapdragon 7',\n",
    "'Qualcomm Snapdragon 8',\n",
    "'Mediatek MT8183',\n",
    "'AMD 3015e',\n",
    "'AMD 3015Ce',\n",
    "'AMD 3020e', 'AMD Athlon',\n",
    "'Intel Core M3',\n",
    "'AMD Radeon 5',\n",
    "'Intel Pentium',\n",
    "'Apple M2',\n",
    "'Apple M2 Pro',\n",
    "'AMD Radeon 9',\n",
    "'Intel Core i3',\n",
    "'AMD Ryzen 3',\n",
    "'Intel Evo Core i5',\n",
    "\n",
    "'Intel Evo Core i7',\n",
    "'Intel Evo Core i9',\n",
    "'AMD Ryzen 5',\n",
    "'Apple M1',\n",
    "'Apple M1 Pro',\n",
    "'Intel Core i5',\n",
    "'Intel Core i7',\n",
    "'AMD Ryzen 7',\n",
    "'Intel Core i9',\n",
    "'AMD Ryzen 9'\n",
    "]\n",
    "\n",
    "Storage_type_categories = [ 'eMMC','SSD']\n",
    "\n",
    "GPU_categories =['A 370M',\n",
    "                 '610 M',\n",
    "'A 730M',\n",
    "'GTX 1050',\n",
    "'GTX 1070',\n",
    "'GTX 1650',\n",
    "'GTX 1660',\n",
    "'MX 130',\n",
    "'MX 330',\n",
    "'MX 450',\n",
    "'MX 550',\n",
    "'P 500',\n",
    "'Radeon Pro 5300M',\n",
    "'Radeon Pro 5500M',\n",
    "'Radeon RX 6600M',\n",
    "'Radeon Pro RX 560X',\n",
    "'RX 6500M',\n",
    "'RX 6600M',\n",
    "'RX 6700M',\n",
    "'RX 6800S',\n",
    "'RX 7600S',\n",
    "'RTX 2050',\n",
    "'RTX 2060',\n",
    "'RTX 2070',\n",
    "'RTX 2080',\n",
    "'RTX 3000',\n",
    "'RTX 3050',\n",
    "'RTX 3060',\n",
    "'RTX 3070',\n",
    "'RTX 3080',\n",
    "'RTX 4050',\n",
    "'RTX 4060',\n",
    "'RTX 4070',\n",
    "'RTX 4080',\n",
    "'RTX 4090',\n",
    "'RTX A1000',\n",
    "'RTX A2000',\n",
    "'RTX A3000',\n",
    "'RTX A5500',\n",
    "'T 1000',\n",
    "'T 1200',\n",
    "'T 2000',\n",
    "'T 500',\n",
    "'T 550',\n",
    "'T 600'\n",
    "]"
   ]
  },
  {
   "cell_type": "code",
   "execution_count": 37,
   "metadata": {},
   "outputs": [],
   "source": [
    "from sklearn.impute import SimpleImputer\n",
    "from sklearn.preprocessing import StandardScaler\n",
    "from sklearn.preprocessing import OrdinalEncoder\n",
    "\n",
    "#pipline\n",
    "\n",
    "from sklearn.pipeline import Pipeline\n",
    "from sklearn.compose import ColumnTransformer"
   ]
  },
  {
   "cell_type": "code",
   "execution_count": 38,
   "metadata": {},
   "outputs": [],
   "source": [
    "#numerical pipeline\n",
    "num_pipeline = Pipeline(\n",
    "    steps=[\n",
    "        ('imputer',SimpleImputer(strategy='median')),\n",
    "        ('scaler',StandardScaler())\n",
    "         \n",
    "    ]\n",
    ")\n",
    "\n",
    "#categorical pipeline\n",
    "\n",
    "cat_pipeline= Pipeline(\n",
    "    steps=[\n",
    "        ('imputer',SimpleImputer(strategy='most_frequent')),\n",
    "        ('OrdinalEncoder',OrdinalEncoder(categories=[CPU_categories,Storage_type_categories,GPU_categories])),\n",
    "        ('scaler',StandardScaler())\n",
    "\n",
    "    ]\n",
    ")\n",
    "\n",
    "preprocessing  = ColumnTransformer([\n",
    "    ('num_pipeline',num_pipeline,numerical_cols),\n",
    "    ('cat_pipeline',cat_pipeline,categorical_cols)\n",
    "])"
   ]
  },
  {
   "cell_type": "code",
   "execution_count": 39,
   "metadata": {},
   "outputs": [],
   "source": [
    "from sklearn.model_selection import train_test_split\n",
    "X_train,X_test,y_train,y_test= train_test_split(X,y,test_size=0.30,random_state=42)"
   ]
  },
  {
   "cell_type": "code",
   "execution_count": 40,
   "metadata": {},
   "outputs": [
    {
     "data": {
      "text/plain": [
       "((1512, 7), (648, 7))"
      ]
     },
     "execution_count": 40,
     "metadata": {},
     "output_type": "execute_result"
    }
   ],
   "source": [
    "X_train.shape,X_test.shape"
   ]
  },
  {
   "cell_type": "code",
   "execution_count": 41,
   "metadata": {},
   "outputs": [],
   "source": [
    "X_train = pd.DataFrame(preprocessing.fit_transform(X_train),columns=preprocessing.get_feature_names_out())\n",
    "X_test = pd.DataFrame(preprocessing.transform(X_test),columns=preprocessing.get_feature_names_out())"
   ]
  },
  {
   "cell_type": "code",
   "execution_count": 42,
   "metadata": {},
   "outputs": [
    {
     "data": {
      "text/html": [
       "<div>\n",
       "<style scoped>\n",
       "    .dataframe tbody tr th:only-of-type {\n",
       "        vertical-align: middle;\n",
       "    }\n",
       "\n",
       "    .dataframe tbody tr th {\n",
       "        vertical-align: top;\n",
       "    }\n",
       "\n",
       "    .dataframe thead th {\n",
       "        text-align: right;\n",
       "    }\n",
       "</style>\n",
       "<table border=\"1\" class=\"dataframe\">\n",
       "  <thead>\n",
       "    <tr style=\"text-align: right;\">\n",
       "      <th></th>\n",
       "      <th>Brand</th>\n",
       "      <th>CPU</th>\n",
       "      <th>RAM</th>\n",
       "      <th>Storage</th>\n",
       "      <th>Storage type</th>\n",
       "      <th>GPU</th>\n",
       "      <th>Screen</th>\n",
       "    </tr>\n",
       "  </thead>\n",
       "  <tbody>\n",
       "    <tr>\n",
       "      <th>0</th>\n",
       "      <td>Asus</td>\n",
       "      <td>Intel Core i5</td>\n",
       "      <td>8</td>\n",
       "      <td>512</td>\n",
       "      <td>SSD</td>\n",
       "      <td>NaN</td>\n",
       "      <td>15.6</td>\n",
       "    </tr>\n",
       "    <tr>\n",
       "      <th>1</th>\n",
       "      <td>Alurin</td>\n",
       "      <td>Intel Celeron</td>\n",
       "      <td>8</td>\n",
       "      <td>256</td>\n",
       "      <td>SSD</td>\n",
       "      <td>NaN</td>\n",
       "      <td>15.6</td>\n",
       "    </tr>\n",
       "    <tr>\n",
       "      <th>2</th>\n",
       "      <td>Asus</td>\n",
       "      <td>Intel Core i3</td>\n",
       "      <td>8</td>\n",
       "      <td>256</td>\n",
       "      <td>SSD</td>\n",
       "      <td>NaN</td>\n",
       "      <td>15.6</td>\n",
       "    </tr>\n",
       "    <tr>\n",
       "      <th>3</th>\n",
       "      <td>MSI</td>\n",
       "      <td>Intel Core i7</td>\n",
       "      <td>16</td>\n",
       "      <td>1000</td>\n",
       "      <td>SSD</td>\n",
       "      <td>RTX 3050</td>\n",
       "      <td>15.6</td>\n",
       "    </tr>\n",
       "    <tr>\n",
       "      <th>4</th>\n",
       "      <td>HP</td>\n",
       "      <td>Intel Core i5</td>\n",
       "      <td>16</td>\n",
       "      <td>512</td>\n",
       "      <td>SSD</td>\n",
       "      <td>NaN</td>\n",
       "      <td>15.6</td>\n",
       "    </tr>\n",
       "  </tbody>\n",
       "</table>\n",
       "</div>"
      ],
      "text/plain": [
       "    Brand            CPU  RAM  Storage Storage type       GPU  Screen\n",
       "0    Asus  Intel Core i5    8      512          SSD       NaN    15.6\n",
       "1  Alurin  Intel Celeron    8      256          SSD       NaN    15.6\n",
       "2    Asus  Intel Core i3    8      256          SSD       NaN    15.6\n",
       "3     MSI  Intel Core i7   16     1000          SSD  RTX 3050    15.6\n",
       "4      HP  Intel Core i5   16      512          SSD       NaN    15.6"
      ]
     },
     "execution_count": 42,
     "metadata": {},
     "output_type": "execute_result"
    }
   ],
   "source": [
    "X.head()"
   ]
  },
  {
   "cell_type": "code",
   "execution_count": 43,
   "metadata": {},
   "outputs": [
    {
     "data": {
      "text/html": [
       "<div>\n",
       "<style scoped>\n",
       "    .dataframe tbody tr th:only-of-type {\n",
       "        vertical-align: middle;\n",
       "    }\n",
       "\n",
       "    .dataframe tbody tr th {\n",
       "        vertical-align: top;\n",
       "    }\n",
       "\n",
       "    .dataframe thead th {\n",
       "        text-align: right;\n",
       "    }\n",
       "</style>\n",
       "<table border=\"1\" class=\"dataframe\">\n",
       "  <thead>\n",
       "    <tr style=\"text-align: right;\">\n",
       "      <th></th>\n",
       "      <th>num_pipeline__RAM</th>\n",
       "      <th>num_pipeline__Storage</th>\n",
       "      <th>num_pipeline__Screen</th>\n",
       "      <th>cat_pipeline__CPU</th>\n",
       "      <th>cat_pipeline__Storage type</th>\n",
       "      <th>cat_pipeline__GPU</th>\n",
       "    </tr>\n",
       "  </thead>\n",
       "  <tbody>\n",
       "    <tr>\n",
       "      <th>0</th>\n",
       "      <td>0.079482</td>\n",
       "      <td>-0.225361</td>\n",
       "      <td>0.341547</td>\n",
       "      <td>-0.146669</td>\n",
       "      <td>0.171089</td>\n",
       "      <td>-0.084640</td>\n",
       "    </tr>\n",
       "    <tr>\n",
       "      <th>1</th>\n",
       "      <td>1.760269</td>\n",
       "      <td>1.150205</td>\n",
       "      <td>1.776163</td>\n",
       "      <td>0.988088</td>\n",
       "      <td>0.171089</td>\n",
       "      <td>1.082307</td>\n",
       "    </tr>\n",
       "    <tr>\n",
       "      <th>2</th>\n",
       "      <td>0.079482</td>\n",
       "      <td>-0.225361</td>\n",
       "      <td>0.341547</td>\n",
       "      <td>0.501763</td>\n",
       "      <td>0.171089</td>\n",
       "      <td>-0.668113</td>\n",
       "    </tr>\n",
       "    <tr>\n",
       "      <th>3</th>\n",
       "      <td>1.760269</td>\n",
       "      <td>1.150205</td>\n",
       "      <td>0.341547</td>\n",
       "      <td>0.501763</td>\n",
       "      <td>0.171089</td>\n",
       "      <td>0.887816</td>\n",
       "    </tr>\n",
       "    <tr>\n",
       "      <th>4</th>\n",
       "      <td>0.079482</td>\n",
       "      <td>-0.225361</td>\n",
       "      <td>1.522996</td>\n",
       "      <td>0.501763</td>\n",
       "      <td>0.171089</td>\n",
       "      <td>-1.057095</td>\n",
       "    </tr>\n",
       "  </tbody>\n",
       "</table>\n",
       "</div>"
      ],
      "text/plain": [
       "   num_pipeline__RAM  num_pipeline__Storage  num_pipeline__Screen  \\\n",
       "0           0.079482              -0.225361              0.341547   \n",
       "1           1.760269               1.150205              1.776163   \n",
       "2           0.079482              -0.225361              0.341547   \n",
       "3           1.760269               1.150205              0.341547   \n",
       "4           0.079482              -0.225361              1.522996   \n",
       "\n",
       "   cat_pipeline__CPU  cat_pipeline__Storage type  cat_pipeline__GPU  \n",
       "0          -0.146669                    0.171089          -0.084640  \n",
       "1           0.988088                    0.171089           1.082307  \n",
       "2           0.501763                    0.171089          -0.668113  \n",
       "3           0.501763                    0.171089           0.887816  \n",
       "4           0.501763                    0.171089          -1.057095  "
      ]
     },
     "execution_count": 43,
     "metadata": {},
     "output_type": "execute_result"
    }
   ],
   "source": [
    "X_train.head()"
   ]
  },
  {
   "cell_type": "code",
   "execution_count": 44,
   "metadata": {},
   "outputs": [],
   "source": [
    "#model training\n",
    "\n",
    "from sklearn.linear_model import LinearRegression,Lasso,Ridge,ElasticNet\n",
    "from sklearn.tree import DecisionTreeRegressor\n",
    "from sklearn.metrics import r2_score,mean_absolute_error,mean_squared_error"
   ]
  },
  {
   "cell_type": "code",
   "execution_count": 45,
   "metadata": {},
   "outputs": [
    {
     "data": {
      "text/plain": [
       "array([1287.13433201])"
      ]
     },
     "execution_count": 45,
     "metadata": {},
     "output_type": "execute_result"
    }
   ],
   "source": [
    "regressor = LinearRegression()\n",
    "regressor.fit(X_train,y_train)\n"
   ]
  },
  {
   "cell_type": "code",
   "execution_count": 46,
   "metadata": {},
   "outputs": [
    {
     "data": {
      "text/plain": [
       "array([[398.34932453, 301.45732627, -37.93019865,  43.38423722,\n",
       "         -5.55971206, 159.47679358]])"
      ]
     },
     "execution_count": 46,
     "metadata": {},
     "output_type": "execute_result"
    }
   ],
   "source": [
    "regressor.coef_"
   ]
  },
  {
   "cell_type": "code",
   "execution_count": 47,
   "metadata": {},
   "outputs": [
    {
     "data": {
      "text/plain": [
       "array([1287.13433201])"
      ]
     },
     "execution_count": 47,
     "metadata": {},
     "output_type": "execute_result"
    }
   ],
   "source": [
    "regressor.intercept_"
   ]
  },
  {
   "cell_type": "code",
   "execution_count": 48,
   "metadata": {},
   "outputs": [],
   "source": [
    "import numpy as np\n",
    "def evaluate_model(true,predict):\n",
    "    mae = mean_absolute_error(true,predict)\n",
    "    mse = mean_squared_error(true,predict)\n",
    "    rmse= np.sqrt(mean_squared_error(true,predict))\n",
    "    r2_square = r2_score(true,predict)\n",
    "\n",
    "    return mae,rmse,r2_square"
   ]
  },
  {
   "cell_type": "code",
   "execution_count": 49,
   "metadata": {},
   "outputs": [],
   "source": [
    "y_pred = regressor.predict(X_test)"
   ]
  },
  {
   "cell_type": "code",
   "execution_count": 51,
   "metadata": {},
   "outputs": [
    {
     "name": "stdout",
     "output_type": "stream",
     "text": [
      "LinearRegression\n",
      "model training performance\n",
      "RMSE 589.9402130700781\n",
      "MAE 426.3533381562334\n",
      "R2_score 61.612609498411885\n",
      "===================================\n",
      "\n",
      "\n"
     ]
    },
    {
     "name": "stdout",
     "output_type": "stream",
     "text": [
      "Lasso\n",
      "model training performance\n",
      "RMSE 589.9897208431416\n",
      "MAE 426.5369991037785\n",
      "R2_score 61.60616628969605\n",
      "===================================\n",
      "\n",
      "\n",
      "Ridge\n",
      "model training performance\n",
      "RMSE 589.9464228775508\n",
      "MAE 426.3853121157355\n",
      "R2_score 61.61180135021749\n",
      "===================================\n",
      "\n",
      "\n",
      "ElasticNet\n",
      "model training performance\n",
      "RMSE 617.7592455447462\n",
      "MAE 454.25609272979915\n",
      "R2_score 57.906881981963835\n",
      "===================================\n",
      "\n",
      "\n",
      "DecisionTreeRegressor\n",
      "model training performance\n",
      "RMSE 493.0866634266528\n",
      "MAE 304.74620219903125\n",
      "R2_score 73.18244982957344\n",
      "===================================\n",
      "\n",
      "\n"
     ]
    }
   ],
   "source": [
    "#train multiple models\n",
    "#model evaluation\n",
    "\n",
    "models= {\n",
    "    'LinearRegression':LinearRegression(),\n",
    "    'Lasso':Lasso(),\n",
    "    'Ridge':Ridge(),\n",
    "    'ElasticNet':ElasticNet(),\n",
    "    'DecisionTreeRegressor':DecisionTreeRegressor()\n",
    "}\n",
    "\n",
    "\n",
    "trained_models_list =[]\n",
    "model_list=[]\n",
    "r2_list=[]\n",
    "\n",
    "for i in range(len(list(models))):\n",
    "    model = list(models.values())[i]\n",
    "    model.fit(X_train,y_train)\n",
    "\n",
    "\n",
    "    #make predictions\n",
    "    y_pred = model.predict(X_test)\n",
    "\n",
    "    mae,rmse,r2_square = evaluate_model(y_test,y_pred)\n",
    "\n",
    "    print(list(models.keys())[i])\n",
    "\n",
    "    model_list.append(list(models.keys())[i])\n",
    "\n",
    "    print(\"model training performance\")\n",
    "\n",
    "    print(\"RMSE\",rmse)\n",
    "\n",
    "    print(\"MAE\",mae)\n",
    "\n",
    "    print(\"R2_score\",r2_square*100)\n",
    "\n",
    "    r2_list.append(r2_square)\n",
    "\n",
    "    print(\"=\"*35)\n",
    "\n",
    "    print(\"\\n\")"
   ]
  },
  {
   "cell_type": "code",
   "execution_count": null,
   "metadata": {},
   "outputs": [],
   "source": []
  }
 ],
 "metadata": {
  "kernelspec": {
   "display_name": "Python 3",
   "language": "python",
   "name": "python3"
  },
  "language_info": {
   "codemirror_mode": {
    "name": "ipython",
    "version": 3
   },
   "file_extension": ".py",
   "mimetype": "text/x-python",
   "name": "python",
   "nbconvert_exporter": "python",
   "pygments_lexer": "ipython3",
   "version": "3.8.0"
  },
  "orig_nbformat": 4
 },
 "nbformat": 4,
 "nbformat_minor": 2
}
